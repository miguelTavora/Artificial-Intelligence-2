{
 "cells": [
  {
   "cell_type": "markdown",
   "id": "english-mixture",
   "metadata": {},
   "source": [
    "# Imports"
   ]
  },
  {
   "cell_type": "code",
   "execution_count": 1,
   "id": "valued-explorer",
   "metadata": {},
   "outputs": [],
   "source": [
    "import tensorflow as tf\n",
    "from tensorflow import keras\n",
    "import numpy as np\n",
    "import matplotlib.pyplot as plt\n",
    "from sklearn.metrics import confusion_matrix\n",
    "import sklearn.metrics as skm"
   ]
  },
  {
   "cell_type": "markdown",
   "id": "compact-criticism",
   "metadata": {},
   "source": [
    "<hr style=\"border:2px solid black\"> </hr>"
   ]
  },
  {
   "cell_type": "markdown",
   "id": "rolled-milton",
   "metadata": {},
   "source": [
    "# Obtain dataset"
   ]
  },
  {
   "cell_type": "code",
   "execution_count": 2,
   "id": "prerequisite-manhattan",
   "metadata": {},
   "outputs": [
    {
     "name": "stdout",
     "output_type": "stream",
     "text": [
      "(28, 28)\n"
     ]
    }
   ],
   "source": [
    "# the data is already shuffled\n",
    "fashion = keras.datasets.fashion_mnist\n",
    "(Xtrain,ytrain),(Xtest,ytest)=fashion.load_data()\n",
    "ISize = Xtrain.shape[1:]\n",
    "print(ISize)"
   ]
  },
  {
   "cell_type": "markdown",
   "id": "worse-brooklyn",
   "metadata": {},
   "source": [
    "### All the classes"
   ]
  },
  {
   "cell_type": "code",
   "execution_count": 3,
   "id": "young-joseph",
   "metadata": {},
   "outputs": [
    {
     "name": "stdout",
     "output_type": "stream",
     "text": [
      "[0 1 2 3 4 5 6 7 8 9]\n"
     ]
    }
   ],
   "source": [
    "print(np.unique(ytrain))"
   ]
  },
  {
   "cell_type": "markdown",
   "id": "previous-hostel",
   "metadata": {},
   "source": [
    "### Plot a image from the dataset"
   ]
  },
  {
   "cell_type": "code",
   "execution_count": 4,
   "id": "third-argument",
   "metadata": {},
   "outputs": [
    {
     "name": "stdout",
     "output_type": "stream",
     "text": [
      "9\n"
     ]
    },
    {
     "data": {
      "image/png": "[encoded data removed]",
      "text/plain": [
       "<Figure size 216x216 with 1 Axes>"
      ]
     },
     "metadata": {
      "needs_background": "light"
     },
     "output_type": "display_data"
    }
   ],
   "source": [
    "plt.figure(figsize=(3,3))\n",
    "plt.imshow(Xtrain[0],cmap='binary')\n",
    "print(ytrain[0])"
   ]
  },
  {
   "cell_type": "code",
   "execution_count": 5,
   "id": "irish-literacy",
   "metadata": {},
   "outputs": [
    {
     "name": "stdout",
     "output_type": "stream",
     "text": [
      "0\n"
     ]
    },
    {
     "data": {
      "image/png": "[encoded data removed]",
      "text/plain": [
       "<Figure size 216x216 with 1 Axes>"
      ]
     },
     "metadata": {
      "needs_background": "light"
     },
     "output_type": "display_data"
    }
   ],
   "source": [
    "plt.figure(figsize=(3,3))\n",
    "plt.imshow(Xtrain[1],cmap='binary')\n",
    "print(ytrain[1])"
   ]
  },
  {
   "cell_type": "code",
   "execution_count": 32,
   "id": "medium-making",
   "metadata": {},
   "outputs": [
    {
     "name": "stdout",
     "output_type": "stream",
     "text": [
      "3\n"
     ]
    },
    {
     "data": {
      "image/png": "[encoded data removed]",
      "text/plain": [
       "<Figure size 216x216 with 1 Axes>"
      ]
     },
     "metadata": {
      "needs_background": "light"
     },
     "output_type": "display_data"
    }
   ],
   "source": [
    "plt.figure(figsize=(3,3))\n",
    "plt.imshow(Xtrain[3],cmap='binary')\n",
    "print(ytrain[3])"
   ]
  },
  {
   "cell_type": "code",
   "execution_count": 34,
   "id": "valued-bottle",
   "metadata": {},
   "outputs": [
    {
     "name": "stdout",
     "output_type": "stream",
     "text": [
      "2\n"
     ]
    },
    {
     "data": {
      "image/png": "[encoded data removed]",
      "text/plain": [
       "<Figure size 216x216 with 1 Axes>"
      ]
     },
     "metadata": {
      "needs_background": "light"
     },
     "output_type": "display_data"
    }
   ],
   "source": [
    "plt.figure(figsize=(3,3))\n",
    "plt.imshow(Xtrain[5],cmap='binary')\n",
    "print(ytrain[5])"
   ]
  },
  {
   "cell_type": "markdown",
   "id": "satisfied-librarian",
   "metadata": {},
   "source": [
    "## Converts all the data into binary classification"
   ]
  },
  {
   "cell_type": "markdown",
   "id": "lesbian-slave",
   "metadata": {},
   "source": [
    "The data will be:\n",
    "- t-shirts\n",
    "- boots"
   ]
  },
  {
   "cell_type": "code",
   "execution_count": 6,
   "id": "cardiac-amplifier",
   "metadata": {},
   "outputs": [
    {
     "name": "stdout",
     "output_type": "stream",
     "text": [
      "(12000, 28, 28)\n",
      "(12000,)\n",
      "(2000, 28, 28)\n",
      "(2000,)\n"
     ]
    }
   ],
   "source": [
    "searchval1 = 0\n",
    "searchval2 = 9\n",
    "\n",
    "indexes1 = np.where(ytrain == searchval1)[0]\n",
    "indexes2 = np.where(ytrain == searchval2)[0]\n",
    "\n",
    "indexes3 = np.where(ytest == searchval1)[0]\n",
    "indexes4 = np.where(ytest == searchval2)[0]\n",
    "\n",
    "XtrainBin = []\n",
    "ytrainBin = []\n",
    "\n",
    "for index in indexes1:\n",
    "    XtrainBin.append(Xtrain[index])\n",
    "    ytrainBin.append(0)\n",
    "    \n",
    "for index in indexes2:\n",
    "    XtrainBin.append(Xtrain[index])\n",
    "    ytrainBin.append(1)\n",
    "    \n",
    "XtrainBin = np.array(XtrainBin)\n",
    "ytrainBin = np.array(ytrainBin).astype(int)\n",
    "\n",
    "\n",
    "XtestBin = []\n",
    "ytestBin = []\n",
    "\n",
    "for index in indexes3:\n",
    "    XtestBin.append(Xtest[index])\n",
    "    ytestBin.append(0)\n",
    "    \n",
    "for index in indexes4:\n",
    "    XtestBin.append(Xtest[index])\n",
    "    ytestBin.append(1)\n",
    "    \n",
    "XtestBin = np.array(XtestBin)\n",
    "ytestBin = np.array(ytestBin).astype(int)\n",
    "\n",
    "\n",
    "print(XtrainBin.shape)\n",
    "print(ytrainBin.shape)\n",
    "print(XtestBin.shape)\n",
    "print(ytestBin.shape)"
   ]
  },
  {
   "cell_type": "markdown",
   "id": "elect-ensemble",
   "metadata": {},
   "source": [
    "### Shuffle the data"
   ]
  },
  {
   "cell_type": "code",
   "execution_count": 7,
   "id": "deluxe-going",
   "metadata": {},
   "outputs": [
    {
     "name": "stdout",
     "output_type": "stream",
     "text": [
      "(12000, 28, 28)\n",
      "(12000,)\n",
      "(2000, 28, 28)\n",
      "(2000,)\n"
     ]
    }
   ],
   "source": [
    "# test with xor shuffled \n",
    "indexes = np.arange(ytrainBin.shape[0])\n",
    "np.random.shuffle(indexes)\n",
    "\n",
    "XtrainBinShuffled = np.zeros(XtrainBin.shape)\n",
    "ytrainBinShuffled = np.zeros(ytrainBin.shape[0]).astype(int)\n",
    "\n",
    "for index in range(indexes.shape[0]):\n",
    "    XtrainBinShuffled[index] = XtrainBin[indexes[index]]\n",
    "    ytrainBinShuffled[index] = int(ytrainBin[indexes[index]])\n",
    "    \n",
    "\n",
    "indexes = np.arange(XtestBin.shape[0])\n",
    "np.random.shuffle(indexes)\n",
    "\n",
    "XtestBinShuffled = np.zeros(XtestBin.shape)\n",
    "ytestBinShuffled = np.zeros(ytestBin.shape[0]).astype(int)\n",
    "\n",
    "for index in range(indexes.shape[0]):\n",
    "    XtestBinShuffled[index] = XtestBin[indexes[index]]\n",
    "    ytestBinShuffled[index] = ytestBin[indexes[index]]\n",
    "    \n",
    "\n",
    "\n",
    "XtrainBin = XtrainBinShuffled\n",
    "ytrainBin = ytrainBinShuffled\n",
    "XtestBin = XtestBinShuffled\n",
    "ytestBin = ytestBinShuffled\n",
    "    \n",
    "print(XtrainBin.shape)\n",
    "print(ytrainBin.shape)\n",
    "print(XtestBin.shape)\n",
    "print(ytestBin.shape)"
   ]
  },
  {
   "cell_type": "code",
   "execution_count": 8,
   "id": "revised-watch",
   "metadata": {},
   "outputs": [
    {
     "name": "stdout",
     "output_type": "stream",
     "text": [
      "1\n",
      "0\n",
      "0\n",
      "0\n",
      "0\n",
      "1\n",
      "1\n",
      "0\n",
      "0\n",
      "0\n"
     ]
    },
    {
     "data": {
      "image/png": "[encoded data removed]",
      "text/plain": [
       "<Figure size 216x216 with 1 Axes>"
      ]
     },
     "metadata": {
      "needs_background": "light"
     },
     "output_type": "display_data"
    },
    {
     "data": {
      "image/png": "[encoded data removed]",
      "text/plain": [
       "<Figure size 216x216 with 1 Axes>"
      ]
     },
     "metadata": {
      "needs_background": "light"
     },
     "output_type": "display_data"
    },
    {
     "data": {
      "image/png": "[encoded data removed]",
      "text/plain": [
       "<Figure size 216x216 with 1 Axes>"
      ]
     },
     "metadata": {
      "needs_background": "light"
     },
     "output_type": "display_data"
    },
    {
     "data": {
      "image/png": "[encoded data removed]",
      "text/plain": [
       "<Figure size 216x216 with 1 Axes>"
      ]
     },
     "metadata": {
      "needs_background": "light"
     },
     "output_type": "display_data"
    },
    {
     "data": {
      "image/png": "[encoded data removed]",
      "text/plain": [
       "<Figure size 216x216 with 1 Axes>"
      ]
     },
     "metadata": {
      "needs_background": "light"
     },
     "output_type": "display_data"
    },
    {
     "data": {
      "image/png": "[encoded data removed]",
      "text/plain": [
       "<Figure size 216x216 with 1 Axes>"
      ]
     },
     "metadata": {
      "needs_background": "light"
     },
     "output_type": "display_data"
    },
    {
     "data": {
      "image/png": "[encoded data removed]",
      "text/plain": [
       "<Figure size 216x216 with 1 Axes>"
      ]
     },
     "metadata": {
      "needs_background": "light"
     },
     "output_type": "display_data"
    },
    {
     "data": {
      "image/png": "[encoded data removed]",
      "text/plain": [
       "<Figure size 216x216 with 1 Axes>"
      ]
     },
     "metadata": {
      "needs_background": "light"
     },
     "output_type": "display_data"
    },
    {
     "data": {
      "image/png": "[encoded data removed]",
      "text/plain": [
       "<Figure size 216x216 with 1 Axes>"
      ]
     },
     "metadata": {
      "needs_background": "light"
     },
     "output_type": "display_data"
    },
    {
     "data": {
      "image/png": "[encoded data removed]",
      "text/plain": [
       "<Figure size 216x216 with 1 Axes>"
      ]
     },
     "metadata": {
      "needs_background": "light"
     },
     "output_type": "display_data"
    }
   ],
   "source": [
    "for i in range(10):\n",
    "    plt.figure(figsize=(3,3))\n",
    "    plt.imshow(XtrainBin[i],cmap='binary')\n",
    "    print(ytrainBin[i])"
   ]
  },
  {
   "cell_type": "markdown",
   "id": "younger-interest",
   "metadata": {},
   "source": [
    "<hr style=\"border:2px solid black\"> </hr>"
   ]
  },
  {
   "cell_type": "markdown",
   "id": "logical-applicant",
   "metadata": {},
   "source": [
    "# Tests"
   ]
  },
  {
   "cell_type": "markdown",
   "id": "ranging-threshold",
   "metadata": {},
   "source": [
    "### Functions to plot the graphics"
   ]
  },
  {
   "cell_type": "code",
   "execution_count": 9,
   "id": "manufactured-bottle",
   "metadata": {},
   "outputs": [],
   "source": [
    "def get_train_history(train):\n",
    "    h=train.history\n",
    "    h.keys()\n",
    "    plt.figure(figsize=(10,5))\n",
    "    plt.plot(h['accuracy'], label='Accuracy_train')\n",
    "    plt.plot(h['loss'], label='Loss_train')\n",
    "\n",
    "    plt.legend()\n",
    "    plt.grid()\n",
    "    plt.show()"
   ]
  },
  {
   "cell_type": "code",
   "execution_count": 10,
   "id": "northern-cholesterol",
   "metadata": {},
   "outputs": [],
   "source": [
    "def get_train_val_history(train):\n",
    "    h=train.history\n",
    "    h.keys()\n",
    "    plt.figure(figsize=(10,5))\n",
    "    plt.plot(h['val_loss'], label='Loss_val')\n",
    "    plt.plot(h['val_accuracy'], label='Accuracy_val')\n",
    "    plt.legend()\n",
    "    plt.grid()\n",
    "    plt.show()"
   ]
  },
  {
   "cell_type": "markdown",
   "id": "bottom-designation",
   "metadata": {},
   "source": [
    "### Function to check the results with test "
   ]
  },
  {
   "cell_type": "code",
   "execution_count": 11,
   "id": "sweet-austria",
   "metadata": {},
   "outputs": [],
   "source": [
    "def evaluate(mlp, Xtest, ytest):\n",
    "    \n",
    "    #y teste estimado\n",
    "    y2 = mlp.predict(Xtest)\n",
    "    y2 = np.argmax(y2,axis=1)\n",
    "    \n",
    "    ytest = ytest.flatten()\n",
    "    \n",
    "    print(\"Total number of data in the test:\", Xtest.shape[0])\n",
    "    print('Total numb errors test:',np.sum(ytest != y2))\n",
    "    print('Percentage of correct awnsers:', ((1 -(np.sum(ytest!=y2))/ytest.shape[0])*100),\"\\n\")\n",
    "    print(confusion_matrix(ytest, y2), \"\\n\")\n",
    "    print(skm.classification_report(ytest, y2))"
   ]
  },
  {
   "cell_type": "markdown",
   "id": "incorporate-venice",
   "metadata": {},
   "source": [
    "<hr style=\"border:2px solid black\"> </hr>"
   ]
  },
  {
   "cell_type": "markdown",
   "id": "coral-change",
   "metadata": {},
   "source": [
    "## Binary tests"
   ]
  },
  {
   "cell_type": "markdown",
   "id": "duplicate-socket",
   "metadata": {},
   "source": [
    "### Creation of the network for binary tests"
   ]
  },
  {
   "cell_type": "code",
   "execution_count": 18,
   "id": "covered-perfume",
   "metadata": {},
   "outputs": [],
   "source": [
    "model5=keras.Sequential()\n",
    "\n",
    "model5.add(keras.layers.Flatten(input_shape=(28,28)))\n",
    "\n",
    "model5.add(keras.layers.Dense(128, activation=\"relu\"))\n",
    "model5.add(keras.layers.Dropout(0.1))    \n",
    "model5.add(keras.layers.Dense(128, activation=\"relu\"))\n",
    "model5.add(keras.layers.Dropout(0.1))    \n",
    "model5.add(keras.layers.Dense(128, activation=\"relu\"))\n",
    "\n",
    "model5.add(keras.layers.Dense(2, activation=\"softmax\"))\n",
    "#mlp_final.summary()"
   ]
  },
  {
   "cell_type": "code",
   "execution_count": 19,
   "id": "convenient-calgary",
   "metadata": {},
   "outputs": [],
   "source": [
    "model5.compile(optimizer='nadam',loss='sparse_categorical_crossentropy', metrics=['accuracy'])"
   ]
  },
  {
   "cell_type": "code",
   "execution_count": 20,
   "id": "certified-school",
   "metadata": {},
   "outputs": [
    {
     "name": "stdout",
     "output_type": "stream",
     "text": [
      "Epoch 1/5\n",
      "375/375 [==============================] - 4s 10ms/step - loss: 0.3166 - accuracy: 0.9952 - val_loss: 0.2062 - val_accuracy: 0.9995\n",
      "Epoch 2/5\n",
      "375/375 [==============================] - 4s 9ms/step - loss: 0.1019 - accuracy: 0.9990 - val_loss: 0.2201 - val_accuracy: 0.9990\n",
      "Epoch 3/5\n",
      "375/375 [==============================] - 4s 10ms/step - loss: 0.1027 - accuracy: 0.9987 - val_loss: 0.0944 - val_accuracy: 0.9985\n",
      "Epoch 4/5\n",
      "375/375 [==============================] - 4s 10ms/step - loss: 0.0848 - accuracy: 0.9988 - val_loss: 0.1155 - val_accuracy: 0.9990\n",
      "Epoch 5/5\n",
      "375/375 [==============================] - 4s 10ms/step - loss: 0.0000e+00 - accuracy: 1.0000 - val_loss: 0.1155 - val_accuracy: 0.9990\n"
     ]
    }
   ],
   "source": [
    "train = model5.fit(XtrainBin, ytrainBin, epochs=5, validation_data=(XtestBin, ytestBin))"
   ]
  },
  {
   "cell_type": "code",
   "execution_count": 21,
   "id": "forward-federation",
   "metadata": {},
   "outputs": [
    {
     "data": {
      "image/png": "[encoded data removed]",
      "text/plain": [
       "<Figure size 720x360 with 1 Axes>"
      ]
     },
     "metadata": {
      "needs_background": "light"
     },
     "output_type": "display_data"
    }
   ],
   "source": [
    "get_train_history(train)"
   ]
  },
  {
   "cell_type": "code",
   "execution_count": 22,
   "id": "occupied-string",
   "metadata": {},
   "outputs": [
    {
     "data": {
      "image/png": "[encoded data removed]",
      "text/plain": [
       "<Figure size 720x360 with 1 Axes>"
      ]
     },
     "metadata": {
      "needs_background": "light"
     },
     "output_type": "display_data"
    }
   ],
   "source": [
    "get_train_val_history(train)"
   ]
  },
  {
   "cell_type": "code",
   "execution_count": 23,
   "id": "characteristic-faculty",
   "metadata": {},
   "outputs": [
    {
     "name": "stdout",
     "output_type": "stream",
     "text": [
      "Total number of data in the test: 2000\n",
      "Total numb errors test: 2\n",
      "Percentage of correct awnsers: 99.9 \n",
      "\n",
      "[[1000    0]\n",
      " [   2  998]] \n",
      "\n",
      "              precision    recall  f1-score   support\n",
      "\n",
      "           0       1.00      1.00      1.00      1000\n",
      "           1       1.00      1.00      1.00      1000\n",
      "\n",
      "    accuracy                           1.00      2000\n",
      "   macro avg       1.00      1.00      1.00      2000\n",
      "weighted avg       1.00      1.00      1.00      2000\n",
      "\n"
     ]
    }
   ],
   "source": [
    "evaluate(model5, XtestBin, ytestBin)"
   ]
  },
  {
   "cell_type": "markdown",
   "id": "premier-module",
   "metadata": {},
   "source": [
    "<hr style=\"border:2px solid black\"> </hr>"
   ]
  },
  {
   "cell_type": "markdown",
   "id": "impossible-treat",
   "metadata": {},
   "source": [
    "## Tests for multiclass classification"
   ]
  },
  {
   "cell_type": "code",
   "execution_count": 24,
   "id": "italian-anniversary",
   "metadata": {},
   "outputs": [],
   "source": [
    "model5=keras.Sequential()\n",
    "\n",
    "model5.add(keras.layers.Flatten(input_shape=(28,28)))\n",
    "\n",
    "model5.add(keras.layers.Dense(128, activation=\"relu\"))\n",
    "model5.add(keras.layers.Dropout(0.1))    \n",
    "model5.add(keras.layers.Dense(128, activation=\"relu\"))\n",
    "model5.add(keras.layers.Dropout(0.1))    \n",
    "model5.add(keras.layers.Dense(128, activation=\"relu\"))\n",
    "\n",
    "model5.add(keras.layers.Dense(10, activation=\"softmax\"))"
   ]
  },
  {
   "cell_type": "code",
   "execution_count": 25,
   "id": "broke-complement",
   "metadata": {},
   "outputs": [],
   "source": [
    "model5.compile(optimizer='nadam',loss='sparse_categorical_crossentropy', metrics=['accuracy'])"
   ]
  },
  {
   "cell_type": "code",
   "execution_count": 26,
   "id": "confused-banking",
   "metadata": {},
   "outputs": [
    {
     "name": "stdout",
     "output_type": "stream",
     "text": [
      "Epoch 1/5\n",
      "1875/1875 [==============================] - 19s 10ms/step - loss: 1.3961 - accuracy: 0.6845 - val_loss: 0.8041 - val_accuracy: 0.7479\n",
      "Epoch 2/5\n",
      "1875/1875 [==============================] - 18s 10ms/step - loss: 0.6735 - accuracy: 0.7675 - val_loss: 0.5359 - val_accuracy: 0.8105\n",
      "Epoch 3/5\n",
      "1875/1875 [==============================] - 18s 10ms/step - loss: 0.5656 - accuracy: 0.7973 - val_loss: 0.5107 - val_accuracy: 0.8226\n",
      "Epoch 4/5\n",
      "1875/1875 [==============================] - 18s 10ms/step - loss: 0.5244 - accuracy: 0.8122 - val_loss: 0.5178 - val_accuracy: 0.8144\n",
      "Epoch 5/5\n",
      "1875/1875 [==============================] - 18s 10ms/step - loss: 0.5110 - accuracy: 0.8174 - val_loss: 0.4763 - val_accuracy: 0.8321\n"
     ]
    }
   ],
   "source": [
    "train = model5.fit(Xtrain, ytrain, epochs=5, validation_data=(Xtest, ytest))"
   ]
  },
  {
   "cell_type": "code",
   "execution_count": 27,
   "id": "coupled-concrete",
   "metadata": {},
   "outputs": [
    {
     "name": "stdout",
     "output_type": "stream",
     "text": [
      "Total number of data in the test: 10000\n",
      "Total numb errors test: 1679\n",
      "Percentage of correct awnsers: 83.21000000000001 \n",
      "\n",
      "[[710   4   6 110   0   1 156   0  13   0]\n",
      " [  0 961   0  29   1   0   8   0   1   0]\n",
      " [  5   1 732  15  67   0 176   0   4   0]\n",
      " [  7  13   3 905  22   0  46   1   3   0]\n",
      " [  1   1 170  52 591   0 181   0   4   0]\n",
      " [  0   0   0   0   0 930   2  39   3  26]\n",
      " [116   4  90  68  44   2 659   0  17   0]\n",
      " [  0   0   0   0   0  25   0 951   1  23]\n",
      " [  0   0   1  12   2   3  25   3 954   0]\n",
      " [  0   0   0   0   0  13   0  58   1 928]] \n",
      "\n",
      "              precision    recall  f1-score   support\n",
      "\n",
      "           0       0.85      0.71      0.77      1000\n",
      "           1       0.98      0.96      0.97      1000\n",
      "           2       0.73      0.73      0.73      1000\n",
      "           3       0.76      0.91      0.83      1000\n",
      "           4       0.81      0.59      0.68      1000\n",
      "           5       0.95      0.93      0.94      1000\n",
      "           6       0.53      0.66      0.58      1000\n",
      "           7       0.90      0.95      0.93      1000\n",
      "           8       0.95      0.95      0.95      1000\n",
      "           9       0.95      0.93      0.94      1000\n",
      "\n",
      "    accuracy                           0.83     10000\n",
      "   macro avg       0.84      0.83      0.83     10000\n",
      "weighted avg       0.84      0.83      0.83     10000\n",
      "\n"
     ]
    }
   ],
   "source": [
    "evaluate(model5, Xtest, ytest)"
   ]
  },
  {
   "cell_type": "code",
   "execution_count": 28,
   "id": "correct-monthly",
   "metadata": {},
   "outputs": [
    {
     "data": {
      "image/png": "[encoded data removed]",
      "text/plain": [
       "<Figure size 720x360 with 1 Axes>"
      ]
     },
     "metadata": {
      "needs_background": "light"
     },
     "output_type": "display_data"
    }
   ],
   "source": [
    "get_train_history(train)"
   ]
  },
  {
   "cell_type": "code",
   "execution_count": null,
   "id": "retained-fountain",
   "metadata": {},
   "outputs": [],
   "source": []
  }
 ],
 "metadata": {
  "kernelspec": {
   "display_name": "Python 3",
   "language": "python",
   "name": "python3"
  },
  "language_info": {
   "codemirror_mode": {
    "name": "ipython",
    "version": 3
   },
   "file_extension": ".py",
   "mimetype": "text/x-python",
   "name": "python",
   "nbconvert_exporter": "python",
   "pygments_lexer": "ipython3",
   "version": "3.8.8"
  }
 },
 "nbformat": 4,
 "nbformat_minor": 5
}
