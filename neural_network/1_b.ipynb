{
 "cells": [
  {
   "cell_type": "code",
   "execution_count": 13,
   "id": "bottom-cement",
   "metadata": {},
   "outputs": [],
   "source": [
    "import numpy as np\n",
    "import matplotlib.pyplot as plt\n",
    "from sklearn.neural_network import MLPClassifier\n",
    "from sklearn.metrics import confusion_matrix\n",
    "from sklearn.metrics import multilabel_confusion_matrix"
   ]
  },
  {
   "cell_type": "code",
   "execution_count": 14,
   "id": "divine-northwest",
   "metadata": {},
   "outputs": [],
   "source": [
    "x_train = [np.array([1, 1, 1, 1,\n",
    "                    1, 0, 0, 1,\n",
    "                    1, 1, 0, 1,\n",
    "                    1, 1, 1, 1]),#.reshape(4, 4),\n",
    "           \n",
    "           np.array([1, 0, 0, 1,\n",
    "                    0, 1, 1, 0,\n",
    "                    0, 1, 1, 1,\n",
    "                    1, 0, 0, 1]),\n",
    "           \n",
    "           np.array([1, 0, 0, 1,\n",
    "                    0, 1, 1, 0,\n",
    "                    0, 1, 1, 0,\n",
    "                    1, 1, 0, 1]),\n",
    "           \n",
    "           np.array([1, 1, 1, 1,\n",
    "                    1, 0, 0, 1,\n",
    "                    1, 0, 0, 1,\n",
    "                    1, 0, 1, 1]),\n",
    "           \n",
    "           np.array([1, 1, 1, 1,\n",
    "                    0, 0, 0, 1,\n",
    "                    1, 0, 0, 1,\n",
    "                    1, 1, 1, 1]),\n",
    "           \n",
    "           np.array([1, 1, 1, 1,\n",
    "                    1, 0, 0, 1,\n",
    "                    1, 0, 0, 0,\n",
    "                    1, 1, 1, 1]),\n",
    "           \n",
    "           np.array([1, 1, 1, 1,\n",
    "                    1, 0, 0, 1,\n",
    "                    1, 0, 0, 1,\n",
    "                    1, 1, 1, 1]),\n",
    "           \n",
    "           np.array([1, 0, 0, 1,\n",
    "                    0, 1, 1, 0,\n",
    "                    0, 1, 1, 0,\n",
    "                    1, 0, 0, 1]),\n",
    "           \n",
    "           np.array([1, 0, 1, 1,\n",
    "                    0, 1, 1, 0,\n",
    "                    0, 1, 1, 0,\n",
    "                    1, 0, 0, 1]),\n",
    "           \n",
    "           np.array([1, 0, 0, 1,\n",
    "                    0, 1, 1, 0,\n",
    "                    0, 1, 1, 0,\n",
    "                    1, 1, 0, 1])]\n",
    "\n",
    "# value 1, 0 -> A     0, 1 -> B\n",
    "y_train = [np.array([1, 0]), np.array([0, 1]), np.array([0, 1]), np.array([1, 0]), np.array([1, 0]), np.array([1, 0]), \n",
    "     np.array([1, 0]), np.array([0, 1]), np.array([0, 1]), np.array([0, 1])]\n"
   ]
  },
  {
   "cell_type": "code",
   "execution_count": 15,
   "id": "usual-marina",
   "metadata": {},
   "outputs": [
    {
     "name": "stdout",
     "output_type": "stream",
     "text": [
      "(10, 16)\n",
      "(10, 2)\n"
     ]
    }
   ],
   "source": [
    "x_train = np.array(x_train)\n",
    "y_train = np.array(y_train)\n",
    "print(x_train.shape)\n",
    "print(y_train.shape)"
   ]
  },
  {
   "cell_type": "code",
   "execution_count": 16,
   "id": "69ba0a4b",
   "metadata": {},
   "outputs": [],
   "source": [
    "x_test = [np.array([1, 0, 0, 1,\n",
    "                    0, 1, 1, 0,\n",
    "                    0, 1, 1, 0,\n",
    "                    1, 0, 0, 1]),#.reshape(4, 4),\n",
    "          \n",
    "          np.array([1, 1, 1, 1,\n",
    "                    1, 0, 0, 1,\n",
    "                    1, 0, 0, 1,\n",
    "                    1, 1, 1, 1]),\n",
    "         \n",
    "         np.array([1, 1, 1, 1,\n",
    "                    1, 1, 0, 1,\n",
    "                    1, 0, 0, 1,\n",
    "                    1, 1, 1, 1]),\n",
    "         \n",
    "         np.array([1, 0, 0, 1,\n",
    "                    0, 1, 1, 1,\n",
    "                    0, 1, 1, 0,\n",
    "                    1, 0, 0, 1])]\n",
    "\n",
    "y_test = [np.array([0, 1]), np.array([1, 0]), np.array([1, 0]), np.array([0, 1])]"
   ]
  },
  {
   "cell_type": "code",
   "execution_count": 17,
   "id": "oriented-globe",
   "metadata": {},
   "outputs": [],
   "source": [
    "x_test = np.array(x_test)\n",
    "y_test = np.array(y_test)"
   ]
  },
  {
   "cell_type": "code",
   "execution_count": 18,
   "id": "orange-enclosure",
   "metadata": {},
   "outputs": [],
   "source": [
    "def mlp_classification(x_train, y_train, x_test, y_test, learning_rate, momentum, shuffle_data, actvtn=\"relu\"):\n",
    "    mlp = None\n",
    "    max_error = 0.01\n",
    "    currentLoss = 10\n",
    "    \n",
    "    # only returns a neural network when the error is less than maximum error\n",
    "    while currentLoss > max_error:\n",
    "        mlp = MLPClassifier(solver='sgd', shuffle=shuffle_data, activation=actvtn,\n",
    "                    max_iter=100_000, tol=1e-10, hidden_layer_sizes=(8,2),\n",
    "                    momentum=momentum, learning_rate_init=learning_rate , verbose=False, n_iter_no_change=300)\n",
    "        \n",
    "        # trains the neural network and get the \n",
    "        mlp.fit(x_train, y_train)\n",
    "        currentLoss = min(mlp.loss_curve_)\n",
    "    \n",
    "    print('Score: ', mlp.score(x_test, y_test))\n",
    "    print('Number of iterations: ', mlp.n_iter_)\n",
    "    print('Loss: ', currentLoss)\n",
    "    \n",
    "    return mlp"
   ]
  },
  {
   "cell_type": "markdown",
   "id": "ab677a3f",
   "metadata": {},
   "source": [
    "## Test with r = 0.1, momentum = 1"
   ]
  },
  {
   "cell_type": "code",
   "execution_count": 19,
   "id": "italian-madonna",
   "metadata": {},
   "outputs": [
    {
     "name": "stdout",
     "output_type": "stream",
     "text": [
      "Score:  1.0\n",
      "Number of iterations:  323\n",
      "Loss:  0.00033230553378684716\n",
      "[[[2 0]\n",
      "  [0 2]]\n",
      "\n",
      " [[2 0]\n",
      "  [0 2]]]\n"
     ]
    },
    {
     "data": {
      "image/png": "[encoded data removed]",
      "text/plain": [
       "<Figure size 432x288 with 1 Axes>"
      ]
     },
     "metadata": {
      "needs_background": "light"
     },
     "output_type": "display_data"
    }
   ],
   "source": [
    "momentum = 1\n",
    "learn_rate = 0.1\n",
    "shuffle_data = False\n",
    "\n",
    "mlp = mlp_classification(x_train, y_train, x_test, y_test, learn_rate, momentum, shuffle_data)\n",
    "y2 = mlp.predict(x_test)\n",
    "print(multilabel_confusion_matrix(y_test, y2))\n",
    "\n",
    "## MAKE THE GRAPH\n",
    "curve = mlp.loss_curve_\n",
    "plt.plot(curve)\n",
    "plt.title(\"Curve of loss ( r: \" + str(learn_rate) + \", momentum: \" + str(momentum) +\")\")\n",
    "plt.show()"
   ]
  },
  {
   "cell_type": "markdown",
   "id": "08445146",
   "metadata": {},
   "source": [
    "## Test learning rate = 0.01 and momentum = 1"
   ]
  },
  {
   "cell_type": "code",
   "execution_count": 20,
   "id": "interesting-importance",
   "metadata": {},
   "outputs": [
    {
     "name": "stdout",
     "output_type": "stream",
     "text": [
      "Score:  1.0\n",
      "Number of iterations:  452\n",
      "Loss:  0.0014005384925407033\n",
      "[[[2 0]\n",
      "  [0 2]]\n",
      "\n",
      " [[2 0]\n",
      "  [0 2]]]\n"
     ]
    },
    {
     "data": {
      "image/png": "[encoded data removed]",
      "text/plain": [
       "<Figure size 432x288 with 1 Axes>"
      ]
     },
     "metadata": {
      "needs_background": "light"
     },
     "output_type": "display_data"
    }
   ],
   "source": [
    "momentum = 1\n",
    "learn_rate = 0.01\n",
    "shuffle_data = False\n",
    "\n",
    "mlp = mlp_classification(x_train, y_train, x_test, y_test, learn_rate, momentum, shuffle_data)\n",
    "y2 = mlp.predict(x_test)\n",
    "print(multilabel_confusion_matrix(y_test, y2))\n",
    "\n",
    "## MAKE THE GRAPH\n",
    "curve = mlp.loss_curve_\n",
    "plt.plot(curve)\n",
    "plt.title(\"Curve of loss ( r: \" + str(learn_rate) + \", momentum: \" + str(momentum) +\")\")\n",
    "plt.show()"
   ]
  },
  {
   "cell_type": "markdown",
   "id": "executive-comparison",
   "metadata": {},
   "source": [
    "### Test with r = 0.001, momentum = 1"
   ]
  },
  {
   "cell_type": "code",
   "execution_count": 28,
   "id": "stylish-indonesian",
   "metadata": {},
   "outputs": [
    {
     "name": "stdout",
     "output_type": "stream",
     "text": [
      "Score:  1.0\n",
      "Number of iterations:  435\n",
      "Loss:  0.00019796781875926005\n",
      "[[[2 0]\n",
      "  [0 2]]\n",
      "\n",
      " [[2 0]\n",
      "  [0 2]]]\n",
      "Score:  1.0\n",
      "Number of iterations:  526\n",
      "Loss:  0.00022391362519146642\n",
      "[[[2 0]\n",
      "  [0 2]]\n",
      "\n",
      " [[2 0]\n",
      "  [0 2]]]\n",
      "Score:  1.0\n",
      "Number of iterations:  709\n",
      "Loss:  0.0015635346625479459\n",
      "[[[2 0]\n",
      "  [0 2]]\n",
      "\n",
      " [[2 0]\n",
      "  [0 2]]]\n",
      "Score:  1.0\n",
      "Number of iterations:  770\n",
      "Loss:  0.0023889744243989924\n",
      "[[[2 0]\n",
      "  [0 2]]\n",
      "\n",
      " [[2 0]\n",
      "  [0 2]]]\n",
      "Score:  1.0\n",
      "Number of iterations:  799\n",
      "Loss:  0.0030454915507641027\n",
      "[[[2 0]\n",
      "  [0 2]]\n",
      "\n",
      " [[2 0]\n",
      "  [0 2]]]\n"
     ]
    },
    {
     "data": {
      "image/png": "[encoded data removed]",
      "text/plain": [
       "<Figure size 432x288 with 1 Axes>"
      ]
     },
     "metadata": {
      "needs_background": "light"
     },
     "output_type": "display_data"
    }
   ],
   "source": [
    "momentum = 1\n",
    "learn_rate = 0.001\n",
    "shuffle_data = False\n",
    "\n",
    "for i in range(5):\n",
    "    mlp = mlp_classification(x_train, y_train, x_test, y_test, learn_rate, momentum, shuffle_data)\n",
    "    y2 = mlp.predict(x_test)\n",
    "    print(multilabel_confusion_matrix(y_test, y2))\n",
    "\n",
    "## MAKE THE GRAPH\n",
    "curve = mlp.loss_curve_\n",
    "plt.plot(curve)\n",
    "plt.title(\"Curve of loss ( r: \" + str(learn_rate) + \", momentum: \" + str(momentum) +\")\")\n",
    "plt.show()"
   ]
  },
  {
   "cell_type": "markdown",
   "id": "earlier-perception",
   "metadata": {},
   "source": [
    "### Test with r = 0.001, momentum = 1, activation = \"identity\""
   ]
  },
  {
   "cell_type": "code",
   "execution_count": 29,
   "id": "6ed26105",
   "metadata": {},
   "outputs": [
    {
     "name": "stdout",
     "output_type": "stream",
     "text": [
      "Score:  1.0\n",
      "Number of iterations:  460\n",
      "Loss:  0.00020581243236106545\n",
      "[[[2 0]\n",
      "  [0 2]]\n",
      "\n",
      " [[2 0]\n",
      "  [0 2]]]\n",
      "Score:  1.0\n",
      "Number of iterations:  401\n",
      "Loss:  0.00019743383561491348\n",
      "[[[2 0]\n",
      "  [0 2]]\n",
      "\n",
      " [[2 0]\n",
      "  [0 2]]]\n",
      "Score:  1.0\n",
      "Number of iterations:  413\n",
      "Loss:  0.00015660650702822997\n",
      "[[[2 0]\n",
      "  [0 2]]\n",
      "\n",
      " [[2 0]\n",
      "  [0 2]]]\n",
      "Score:  1.0\n",
      "Number of iterations:  406\n",
      "Loss:  0.00022665200952475114\n",
      "[[[2 0]\n",
      "  [0 2]]\n",
      "\n",
      " [[2 0]\n",
      "  [0 2]]]\n",
      "Score:  1.0\n",
      "Number of iterations:  402\n",
      "Loss:  0.00015935434063342092\n",
      "[[[2 0]\n",
      "  [0 2]]\n",
      "\n",
      " [[2 0]\n",
      "  [0 2]]]\n"
     ]
    },
    {
     "data": {
      "image/png": "[encoded data removed]",
      "text/plain": [
       "<Figure size 432x288 with 1 Axes>"
      ]
     },
     "metadata": {
      "needs_background": "light"
     },
     "output_type": "display_data"
    }
   ],
   "source": [
    "momentum = 1\n",
    "learn_rate = 0.001\n",
    "shuffle_data = False\n",
    "\n",
    "for i in range(5):\n",
    "    mlp = mlp_classification(x_train, y_train, x_test, y_test, learn_rate, momentum, shuffle_data, \"identity\")\n",
    "    y2 = mlp.predict(x_test)\n",
    "    print(multilabel_confusion_matrix(y_test, y2))\n",
    "\n",
    "## MAKE THE GRAPH\n",
    "curve = mlp.loss_curve_\n",
    "plt.plot(curve)\n",
    "plt.title(\"Curve of loss ( r: \" + str(learn_rate) + \", momentum: \" + str(momentum) +\")\")\n",
    "plt.show()"
   ]
  },
  {
   "cell_type": "markdown",
   "id": "charitable-rebound",
   "metadata": {},
   "source": [
    "### Test with r = 0.001, momentum = 1, activation = \"logistic\""
   ]
  },
  {
   "cell_type": "code",
   "execution_count": 23,
   "id": "loose-nancy",
   "metadata": {},
   "outputs": [
    {
     "name": "stdout",
     "output_type": "stream",
     "text": [
      "Score:  1.0\n",
      "Number of iterations:  1196\n",
      "Loss:  0.004165413810690417\n",
      "[[[2 0]\n",
      "  [0 2]]\n",
      "\n",
      " [[2 0]\n",
      "  [0 2]]]\n",
      "Score:  1.0\n",
      "Number of iterations:  1280\n",
      "Loss:  0.0040143296981859\n",
      "[[[2 0]\n",
      "  [0 2]]\n",
      "\n",
      " [[2 0]\n",
      "  [0 2]]]\n",
      "Score:  1.0\n",
      "Number of iterations:  1322\n",
      "Loss:  0.005227816418312637\n",
      "[[[2 0]\n",
      "  [0 2]]\n",
      "\n",
      " [[2 0]\n",
      "  [0 2]]]\n",
      "Score:  1.0\n",
      "Number of iterations:  1205\n",
      "Loss:  0.0034977699266591834\n",
      "[[[2 0]\n",
      "  [0 2]]\n",
      "\n",
      " [[2 0]\n",
      "  [0 2]]]\n",
      "Score:  1.0\n",
      "Number of iterations:  2903\n",
      "Loss:  0.006352291615436221\n",
      "[[[2 0]\n",
      "  [0 2]]\n",
      "\n",
      " [[2 0]\n",
      "  [0 2]]]\n"
     ]
    },
    {
     "data": {
      "image/png": "[encoded data removed]",
      "text/plain": [
       "<Figure size 432x288 with 1 Axes>"
      ]
     },
     "metadata": {
      "needs_background": "light"
     },
     "output_type": "display_data"
    }
   ],
   "source": [
    "momentum = 1\n",
    "learn_rate = 0.001\n",
    "shuffle_data = False\n",
    "\n",
    "for i in range(5):\n",
    "    mlp = mlp_classification(x_train, y_train, x_test, y_test, learn_rate, momentum, shuffle_data, \"logistic\")\n",
    "    y2 = mlp.predict(x_test)\n",
    "    print(multilabel_confusion_matrix(y_test, y2))\n",
    "\n",
    "## MAKE THE GRAPH\n",
    "curve = mlp.loss_curve_\n",
    "plt.plot(curve)\n",
    "plt.title(\"Curve of loss ( r: \" + str(learn_rate) + \", momentum: \" + str(momentum) +\")\")\n",
    "plt.show()"
   ]
  },
  {
   "cell_type": "markdown",
   "id": "grave-astrology",
   "metadata": {},
   "source": [
    "### Test with r = 0.001, momentum = 1, activation = \"tanh\""
   ]
  },
  {
   "cell_type": "code",
   "execution_count": 24,
   "id": "introductory-mixture",
   "metadata": {},
   "outputs": [
    {
     "name": "stdout",
     "output_type": "stream",
     "text": [
      "Score:  1.0\n",
      "Number of iterations:  607\n",
      "Loss:  0.0013714933329095134\n",
      "[[[2 0]\n",
      "  [0 2]]\n",
      "\n",
      " [[2 0]\n",
      "  [0 2]]]\n",
      "Score:  1.0\n",
      "Number of iterations:  593\n",
      "Loss:  0.0014379710165021648\n",
      "[[[2 0]\n",
      "  [0 2]]\n",
      "\n",
      " [[2 0]\n",
      "  [0 2]]]\n",
      "Score:  1.0\n",
      "Number of iterations:  618\n",
      "Loss:  0.0016208110627956372\n",
      "[[[2 0]\n",
      "  [0 2]]\n",
      "\n",
      " [[2 0]\n",
      "  [0 2]]]\n",
      "Score:  1.0\n",
      "Number of iterations:  655\n",
      "Loss:  0.001995426757740386\n",
      "[[[2 0]\n",
      "  [0 2]]\n",
      "\n",
      " [[2 0]\n",
      "  [0 2]]]\n",
      "Score:  1.0\n",
      "Number of iterations:  671\n",
      "Loss:  0.0022394011162603818\n",
      "[[[2 0]\n",
      "  [0 2]]\n",
      "\n",
      " [[2 0]\n",
      "  [0 2]]]\n"
     ]
    },
    {
     "data": {
      "image/png": "[encoded data removed]",
      "text/plain": [
       "<Figure size 432x288 with 1 Axes>"
      ]
     },
     "metadata": {
      "needs_background": "light"
     },
     "output_type": "display_data"
    }
   ],
   "source": [
    "momentum = 1\n",
    "learn_rate = 0.001\n",
    "shuffle_data = False\n",
    "\n",
    "for i in range(5):\n",
    "    mlp = mlp_classification(x_train, y_train, x_test, y_test, learn_rate, momentum, shuffle_data, \"tanh\")\n",
    "    y2 = mlp.predict(x_test)\n",
    "    print(multilabel_confusion_matrix(y_test, y2))\n",
    "\n",
    "## MAKE THE GRAPH\n",
    "curve = mlp.loss_curve_\n",
    "plt.plot(curve)\n",
    "plt.title(\"Curve of loss ( r: \" + str(learn_rate) + \", momentum: \" + str(momentum) +\")\")\n",
    "plt.show()"
   ]
  },
  {
   "cell_type": "code",
   "execution_count": null,
   "id": "neutral-rolling",
   "metadata": {},
   "outputs": [],
   "source": []
  }
 ],
 "metadata": {
  "kernelspec": {
   "display_name": "Python 3",
   "language": "python",
   "name": "python3"
  },
  "language_info": {
   "codemirror_mode": {
    "name": "ipython",
    "version": 3
   },
   "file_extension": ".py",
   "mimetype": "text/x-python",
   "name": "python",
   "nbconvert_exporter": "python",
   "pygments_lexer": "ipython3",
   "version": "3.8.8"
  }
 },
 "nbformat": 4,
 "nbformat_minor": 5
}
